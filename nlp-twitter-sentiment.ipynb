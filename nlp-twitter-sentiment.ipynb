{
 "cells": [
  {
   "cell_type": "code",
   "execution_count": 1,
   "id": "d026611e",
   "metadata": {
    "_cell_guid": "b1076dfc-b9ad-4769-8c92-a6c4dae69d19",
    "_uuid": "8f2839f25d086af736a60e9eeb907d3b93b6e0e5",
    "execution": {
     "iopub.execute_input": "2024-02-24T07:08:21.914142Z",
     "iopub.status.busy": "2024-02-24T07:08:21.913780Z",
     "iopub.status.idle": "2024-02-24T07:08:22.655812Z",
     "shell.execute_reply": "2024-02-24T07:08:22.654897Z"
    },
    "papermill": {
     "duration": 0.760919,
     "end_time": "2024-02-24T07:08:22.657995",
     "exception": false,
     "start_time": "2024-02-24T07:08:21.897076",
     "status": "completed"
    },
    "tags": []
   },
   "outputs": [
    {
     "name": "stdout",
     "output_type": "stream",
     "text": [
      "/kaggle/input/sentiment140/training.1600000.processed.noemoticon.csv\n"
     ]
    }
   ],
   "source": [
    "# This Python 3 environment comes with many helpful analytics libraries installed\n",
    "# It is defined by the kaggle/python Docker image: https://github.com/kaggle/docker-python\n",
    "# For example, here's several helpful packages to load\n",
    "\n",
    "import numpy as np # linear algebra\n",
    "import pandas as pd # data processing, CSV file I/O (e.g. pd.read_csv)\n",
    "\n",
    "# Input data files are available in the read-only \"../input/\" directory\n",
    "# For example, running this (by clicking run or pressing Shift+Enter) will list all files under the input directory\n",
    "\n",
    "import os\n",
    "for dirname, _, filenames in os.walk('/kaggle/input'):\n",
    "    for filename in filenames:\n",
    "        print(os.path.join(dirname, filename))\n",
    "\n",
    "# You can write up to 20GB to the current directory (/kaggle/working/) that gets preserved as output when you create a version using \"Save & Run All\" \n",
    "# You can also write temporary files to /kaggle/temp/, but they won't be saved outside of the current session"
   ]
  },
  {
   "cell_type": "code",
   "execution_count": 2,
   "id": "63c220fe",
   "metadata": {
    "execution": {
     "iopub.execute_input": "2024-02-24T07:08:22.690168Z",
     "iopub.status.busy": "2024-02-24T07:08:22.689286Z",
     "iopub.status.idle": "2024-02-24T07:08:22.694312Z",
     "shell.execute_reply": "2024-02-24T07:08:22.693389Z"
    },
    "papermill": {
     "duration": 0.023265,
     "end_time": "2024-02-24T07:08:22.696428",
     "exception": false,
     "start_time": "2024-02-24T07:08:22.673163",
     "status": "completed"
    },
    "tags": []
   },
   "outputs": [
    {
     "name": "stdout",
     "output_type": "stream",
     "text": [
      "hello\n"
     ]
    }
   ],
   "source": [
    "print(\"hello\")"
   ]
  },
  {
   "cell_type": "code",
   "execution_count": 3,
   "id": "ba9dc23d",
   "metadata": {
    "execution": {
     "iopub.execute_input": "2024-02-24T07:08:22.729894Z",
     "iopub.status.busy": "2024-02-24T07:08:22.728970Z",
     "iopub.status.idle": "2024-02-24T07:08:36.822872Z",
     "shell.execute_reply": "2024-02-24T07:08:36.822048Z"
    },
    "papermill": {
     "duration": 14.113672,
     "end_time": "2024-02-24T07:08:36.825233",
     "exception": false,
     "start_time": "2024-02-24T07:08:22.711561",
     "status": "completed"
    },
    "tags": []
   },
   "outputs": [
    {
     "name": "stderr",
     "output_type": "stream",
     "text": [
      "2024-02-24 07:08:24.402823: E external/local_xla/xla/stream_executor/cuda/cuda_dnn.cc:9261] Unable to register cuDNN factory: Attempting to register factory for plugin cuDNN when one has already been registered\n",
      "2024-02-24 07:08:24.402965: E external/local_xla/xla/stream_executor/cuda/cuda_fft.cc:607] Unable to register cuFFT factory: Attempting to register factory for plugin cuFFT when one has already been registered\n",
      "2024-02-24 07:08:24.521247: E external/local_xla/xla/stream_executor/cuda/cuda_blas.cc:1515] Unable to register cuBLAS factory: Attempting to register factory for plugin cuBLAS when one has already been registered\n"
     ]
    }
   ],
   "source": [
    "import tensorflow as tf\n",
    "import numpy as np\n",
    "import pandas as pd\n",
    "import seaborn as sns\n",
    "import matplotlib.pyplot as plt\n",
    "\n",
    "import nltk\n",
    "\n",
    "from nltk.stem import SnowballStemmer\n",
    "\n",
    "from sklearn.model_selection import train_test_split\n",
    "from sklearn.preprocessing import LabelEncoder\n",
    "\n",
    "import re"
   ]
  },
  {
   "cell_type": "code",
   "execution_count": 4,
   "id": "28576358",
   "metadata": {
    "execution": {
     "iopub.execute_input": "2024-02-24T07:08:36.856969Z",
     "iopub.status.busy": "2024-02-24T07:08:36.856373Z",
     "iopub.status.idle": "2024-02-24T07:08:36.860821Z",
     "shell.execute_reply": "2024-02-24T07:08:36.860059Z"
    },
    "papermill": {
     "duration": 0.022058,
     "end_time": "2024-02-24T07:08:36.862612",
     "exception": false,
     "start_time": "2024-02-24T07:08:36.840554",
     "status": "completed"
    },
    "tags": []
   },
   "outputs": [],
   "source": [
    "#nltk.download('stopwords')\n",
    "from nltk.corpus import stopwords"
   ]
  },
  {
   "cell_type": "code",
   "execution_count": 5,
   "id": "7dc6a8ab",
   "metadata": {
    "execution": {
     "iopub.execute_input": "2024-02-24T07:08:36.893050Z",
     "iopub.status.busy": "2024-02-24T07:08:36.892750Z",
     "iopub.status.idle": "2024-02-24T07:08:44.274575Z",
     "shell.execute_reply": "2024-02-24T07:08:44.273549Z"
    },
    "papermill": {
     "duration": 7.399749,
     "end_time": "2024-02-24T07:08:44.277062",
     "exception": false,
     "start_time": "2024-02-24T07:08:36.877313",
     "status": "completed"
    },
    "tags": []
   },
   "outputs": [],
   "source": [
    "df = pd.read_csv(\"/kaggle/input/sentiment140/training.1600000.processed.noemoticon.csv\",\n",
    "                 encoding='latin',\n",
    "                 header=None)"
   ]
  },
  {
   "cell_type": "code",
   "execution_count": 6,
   "id": "75952371",
   "metadata": {
    "execution": {
     "iopub.execute_input": "2024-02-24T07:08:44.310269Z",
     "iopub.status.busy": "2024-02-24T07:08:44.309396Z",
     "iopub.status.idle": "2024-02-24T07:08:44.328394Z",
     "shell.execute_reply": "2024-02-24T07:08:44.327375Z"
    },
    "papermill": {
     "duration": 0.037676,
     "end_time": "2024-02-24T07:08:44.330595",
     "exception": false,
     "start_time": "2024-02-24T07:08:44.292919",
     "status": "completed"
    },
    "tags": []
   },
   "outputs": [
    {
     "data": {
      "text/html": [
       "<div>\n",
       "<style scoped>\n",
       "    .dataframe tbody tr th:only-of-type {\n",
       "        vertical-align: middle;\n",
       "    }\n",
       "\n",
       "    .dataframe tbody tr th {\n",
       "        vertical-align: top;\n",
       "    }\n",
       "\n",
       "    .dataframe thead th {\n",
       "        text-align: right;\n",
       "    }\n",
       "</style>\n",
       "<table border=\"1\" class=\"dataframe\">\n",
       "  <thead>\n",
       "    <tr style=\"text-align: right;\">\n",
       "      <th></th>\n",
       "      <th>0</th>\n",
       "      <th>1</th>\n",
       "      <th>2</th>\n",
       "      <th>3</th>\n",
       "      <th>4</th>\n",
       "      <th>5</th>\n",
       "    </tr>\n",
       "  </thead>\n",
       "  <tbody>\n",
       "    <tr>\n",
       "      <th>0</th>\n",
       "      <td>0</td>\n",
       "      <td>1467810369</td>\n",
       "      <td>Mon Apr 06 22:19:45 PDT 2009</td>\n",
       "      <td>NO_QUERY</td>\n",
       "      <td>_TheSpecialOne_</td>\n",
       "      <td>@switchfoot http://twitpic.com/2y1zl - Awww, t...</td>\n",
       "    </tr>\n",
       "    <tr>\n",
       "      <th>1</th>\n",
       "      <td>0</td>\n",
       "      <td>1467810672</td>\n",
       "      <td>Mon Apr 06 22:19:49 PDT 2009</td>\n",
       "      <td>NO_QUERY</td>\n",
       "      <td>scotthamilton</td>\n",
       "      <td>is upset that he can't update his Facebook by ...</td>\n",
       "    </tr>\n",
       "    <tr>\n",
       "      <th>2</th>\n",
       "      <td>0</td>\n",
       "      <td>1467810917</td>\n",
       "      <td>Mon Apr 06 22:19:53 PDT 2009</td>\n",
       "      <td>NO_QUERY</td>\n",
       "      <td>mattycus</td>\n",
       "      <td>@Kenichan I dived many times for the ball. Man...</td>\n",
       "    </tr>\n",
       "    <tr>\n",
       "      <th>3</th>\n",
       "      <td>0</td>\n",
       "      <td>1467811184</td>\n",
       "      <td>Mon Apr 06 22:19:57 PDT 2009</td>\n",
       "      <td>NO_QUERY</td>\n",
       "      <td>ElleCTF</td>\n",
       "      <td>my whole body feels itchy and like its on fire</td>\n",
       "    </tr>\n",
       "    <tr>\n",
       "      <th>4</th>\n",
       "      <td>0</td>\n",
       "      <td>1467811193</td>\n",
       "      <td>Mon Apr 06 22:19:57 PDT 2009</td>\n",
       "      <td>NO_QUERY</td>\n",
       "      <td>Karoli</td>\n",
       "      <td>@nationwideclass no, it's not behaving at all....</td>\n",
       "    </tr>\n",
       "  </tbody>\n",
       "</table>\n",
       "</div>"
      ],
      "text/plain": [
       "   0           1                             2         3                4  \\\n",
       "0  0  1467810369  Mon Apr 06 22:19:45 PDT 2009  NO_QUERY  _TheSpecialOne_   \n",
       "1  0  1467810672  Mon Apr 06 22:19:49 PDT 2009  NO_QUERY    scotthamilton   \n",
       "2  0  1467810917  Mon Apr 06 22:19:53 PDT 2009  NO_QUERY         mattycus   \n",
       "3  0  1467811184  Mon Apr 06 22:19:57 PDT 2009  NO_QUERY          ElleCTF   \n",
       "4  0  1467811193  Mon Apr 06 22:19:57 PDT 2009  NO_QUERY           Karoli   \n",
       "\n",
       "                                                   5  \n",
       "0  @switchfoot http://twitpic.com/2y1zl - Awww, t...  \n",
       "1  is upset that he can't update his Facebook by ...  \n",
       "2  @Kenichan I dived many times for the ball. Man...  \n",
       "3    my whole body feels itchy and like its on fire   \n",
       "4  @nationwideclass no, it's not behaving at all....  "
      ]
     },
     "execution_count": 6,
     "metadata": {},
     "output_type": "execute_result"
    }
   ],
   "source": [
    "df.head()"
   ]
  },
  {
   "cell_type": "code",
   "execution_count": 7,
   "id": "bbbfc8e2",
   "metadata": {
    "execution": {
     "iopub.execute_input": "2024-02-24T07:08:44.363690Z",
     "iopub.status.busy": "2024-02-24T07:08:44.363064Z",
     "iopub.status.idle": "2024-02-24T07:08:44.368841Z",
     "shell.execute_reply": "2024-02-24T07:08:44.367610Z"
    },
    "papermill": {
     "duration": 0.024662,
     "end_time": "2024-02-24T07:08:44.370906",
     "exception": false,
     "start_time": "2024-02-24T07:08:44.346244",
     "status": "completed"
    },
    "tags": []
   },
   "outputs": [],
   "source": [
    "df.columns = [\"sentiment\",\"id\",\"date\",\"query\",\"user_name\",\"text\"]"
   ]
  },
  {
   "cell_type": "code",
   "execution_count": 8,
   "id": "4ac84ff8",
   "metadata": {
    "execution": {
     "iopub.execute_input": "2024-02-24T07:08:44.404046Z",
     "iopub.status.busy": "2024-02-24T07:08:44.403177Z",
     "iopub.status.idle": "2024-02-24T07:08:44.416091Z",
     "shell.execute_reply": "2024-02-24T07:08:44.415233Z"
    },
    "papermill": {
     "duration": 0.031514,
     "end_time": "2024-02-24T07:08:44.417965",
     "exception": false,
     "start_time": "2024-02-24T07:08:44.386451",
     "status": "completed"
    },
    "tags": []
   },
   "outputs": [
    {
     "data": {
      "text/html": [
       "<div>\n",
       "<style scoped>\n",
       "    .dataframe tbody tr th:only-of-type {\n",
       "        vertical-align: middle;\n",
       "    }\n",
       "\n",
       "    .dataframe tbody tr th {\n",
       "        vertical-align: top;\n",
       "    }\n",
       "\n",
       "    .dataframe thead th {\n",
       "        text-align: right;\n",
       "    }\n",
       "</style>\n",
       "<table border=\"1\" class=\"dataframe\">\n",
       "  <thead>\n",
       "    <tr style=\"text-align: right;\">\n",
       "      <th></th>\n",
       "      <th>sentiment</th>\n",
       "      <th>id</th>\n",
       "      <th>date</th>\n",
       "      <th>query</th>\n",
       "      <th>user_name</th>\n",
       "      <th>text</th>\n",
       "    </tr>\n",
       "  </thead>\n",
       "  <tbody>\n",
       "    <tr>\n",
       "      <th>0</th>\n",
       "      <td>0</td>\n",
       "      <td>1467810369</td>\n",
       "      <td>Mon Apr 06 22:19:45 PDT 2009</td>\n",
       "      <td>NO_QUERY</td>\n",
       "      <td>_TheSpecialOne_</td>\n",
       "      <td>@switchfoot http://twitpic.com/2y1zl - Awww, t...</td>\n",
       "    </tr>\n",
       "    <tr>\n",
       "      <th>1</th>\n",
       "      <td>0</td>\n",
       "      <td>1467810672</td>\n",
       "      <td>Mon Apr 06 22:19:49 PDT 2009</td>\n",
       "      <td>NO_QUERY</td>\n",
       "      <td>scotthamilton</td>\n",
       "      <td>is upset that he can't update his Facebook by ...</td>\n",
       "    </tr>\n",
       "    <tr>\n",
       "      <th>2</th>\n",
       "      <td>0</td>\n",
       "      <td>1467810917</td>\n",
       "      <td>Mon Apr 06 22:19:53 PDT 2009</td>\n",
       "      <td>NO_QUERY</td>\n",
       "      <td>mattycus</td>\n",
       "      <td>@Kenichan I dived many times for the ball. Man...</td>\n",
       "    </tr>\n",
       "    <tr>\n",
       "      <th>3</th>\n",
       "      <td>0</td>\n",
       "      <td>1467811184</td>\n",
       "      <td>Mon Apr 06 22:19:57 PDT 2009</td>\n",
       "      <td>NO_QUERY</td>\n",
       "      <td>ElleCTF</td>\n",
       "      <td>my whole body feels itchy and like its on fire</td>\n",
       "    </tr>\n",
       "    <tr>\n",
       "      <th>4</th>\n",
       "      <td>0</td>\n",
       "      <td>1467811193</td>\n",
       "      <td>Mon Apr 06 22:19:57 PDT 2009</td>\n",
       "      <td>NO_QUERY</td>\n",
       "      <td>Karoli</td>\n",
       "      <td>@nationwideclass no, it's not behaving at all....</td>\n",
       "    </tr>\n",
       "  </tbody>\n",
       "</table>\n",
       "</div>"
      ],
      "text/plain": [
       "   sentiment          id                          date     query  \\\n",
       "0          0  1467810369  Mon Apr 06 22:19:45 PDT 2009  NO_QUERY   \n",
       "1          0  1467810672  Mon Apr 06 22:19:49 PDT 2009  NO_QUERY   \n",
       "2          0  1467810917  Mon Apr 06 22:19:53 PDT 2009  NO_QUERY   \n",
       "3          0  1467811184  Mon Apr 06 22:19:57 PDT 2009  NO_QUERY   \n",
       "4          0  1467811193  Mon Apr 06 22:19:57 PDT 2009  NO_QUERY   \n",
       "\n",
       "         user_name                                               text  \n",
       "0  _TheSpecialOne_  @switchfoot http://twitpic.com/2y1zl - Awww, t...  \n",
       "1    scotthamilton  is upset that he can't update his Facebook by ...  \n",
       "2         mattycus  @Kenichan I dived many times for the ball. Man...  \n",
       "3          ElleCTF    my whole body feels itchy and like its on fire   \n",
       "4           Karoli  @nationwideclass no, it's not behaving at all....  "
      ]
     },
     "execution_count": 8,
     "metadata": {},
     "output_type": "execute_result"
    }
   ],
   "source": [
    "df.head()"
   ]
  },
  {
   "cell_type": "code",
   "execution_count": 9,
   "id": "b5e88986",
   "metadata": {
    "execution": {
     "iopub.execute_input": "2024-02-24T07:08:44.450804Z",
     "iopub.status.busy": "2024-02-24T07:08:44.449975Z",
     "iopub.status.idle": "2024-02-24T07:08:44.493907Z",
     "shell.execute_reply": "2024-02-24T07:08:44.492934Z"
    },
    "papermill": {
     "duration": 0.062856,
     "end_time": "2024-02-24T07:08:44.496417",
     "exception": false,
     "start_time": "2024-02-24T07:08:44.433561",
     "status": "completed"
    },
    "tags": []
   },
   "outputs": [],
   "source": [
    "df.drop(columns=[\"id\",\"date\",\"query\",\"user_name\"],inplace=True)"
   ]
  },
  {
   "cell_type": "code",
   "execution_count": 10,
   "id": "f8204063",
   "metadata": {
    "execution": {
     "iopub.execute_input": "2024-02-24T07:08:44.529263Z",
     "iopub.status.busy": "2024-02-24T07:08:44.528364Z",
     "iopub.status.idle": "2024-02-24T07:08:44.537616Z",
     "shell.execute_reply": "2024-02-24T07:08:44.536717Z"
    },
    "papermill": {
     "duration": 0.027672,
     "end_time": "2024-02-24T07:08:44.539653",
     "exception": false,
     "start_time": "2024-02-24T07:08:44.511981",
     "status": "completed"
    },
    "tags": []
   },
   "outputs": [
    {
     "data": {
      "text/html": [
       "<div>\n",
       "<style scoped>\n",
       "    .dataframe tbody tr th:only-of-type {\n",
       "        vertical-align: middle;\n",
       "    }\n",
       "\n",
       "    .dataframe tbody tr th {\n",
       "        vertical-align: top;\n",
       "    }\n",
       "\n",
       "    .dataframe thead th {\n",
       "        text-align: right;\n",
       "    }\n",
       "</style>\n",
       "<table border=\"1\" class=\"dataframe\">\n",
       "  <thead>\n",
       "    <tr style=\"text-align: right;\">\n",
       "      <th></th>\n",
       "      <th>sentiment</th>\n",
       "      <th>text</th>\n",
       "    </tr>\n",
       "  </thead>\n",
       "  <tbody>\n",
       "    <tr>\n",
       "      <th>0</th>\n",
       "      <td>0</td>\n",
       "      <td>@switchfoot http://twitpic.com/2y1zl - Awww, t...</td>\n",
       "    </tr>\n",
       "    <tr>\n",
       "      <th>1</th>\n",
       "      <td>0</td>\n",
       "      <td>is upset that he can't update his Facebook by ...</td>\n",
       "    </tr>\n",
       "    <tr>\n",
       "      <th>2</th>\n",
       "      <td>0</td>\n",
       "      <td>@Kenichan I dived many times for the ball. Man...</td>\n",
       "    </tr>\n",
       "    <tr>\n",
       "      <th>3</th>\n",
       "      <td>0</td>\n",
       "      <td>my whole body feels itchy and like its on fire</td>\n",
       "    </tr>\n",
       "    <tr>\n",
       "      <th>4</th>\n",
       "      <td>0</td>\n",
       "      <td>@nationwideclass no, it's not behaving at all....</td>\n",
       "    </tr>\n",
       "  </tbody>\n",
       "</table>\n",
       "</div>"
      ],
      "text/plain": [
       "   sentiment                                               text\n",
       "0          0  @switchfoot http://twitpic.com/2y1zl - Awww, t...\n",
       "1          0  is upset that he can't update his Facebook by ...\n",
       "2          0  @Kenichan I dived many times for the ball. Man...\n",
       "3          0    my whole body feels itchy and like its on fire \n",
       "4          0  @nationwideclass no, it's not behaving at all...."
      ]
     },
     "execution_count": 10,
     "metadata": {},
     "output_type": "execute_result"
    }
   ],
   "source": [
    "df.head()"
   ]
  },
  {
   "cell_type": "code",
   "execution_count": 11,
   "id": "283be2a5",
   "metadata": {
    "execution": {
     "iopub.execute_input": "2024-02-24T07:08:44.575105Z",
     "iopub.status.busy": "2024-02-24T07:08:44.574504Z",
     "iopub.status.idle": "2024-02-24T07:08:44.752274Z",
     "shell.execute_reply": "2024-02-24T07:08:44.751271Z"
    },
    "papermill": {
     "duration": 0.197194,
     "end_time": "2024-02-24T07:08:44.754738",
     "exception": false,
     "start_time": "2024-02-24T07:08:44.557544",
     "status": "completed"
    },
    "tags": []
   },
   "outputs": [
    {
     "name": "stdout",
     "output_type": "stream",
     "text": [
      "<class 'pandas.core.frame.DataFrame'>\n",
      "RangeIndex: 1600000 entries, 0 to 1599999\n",
      "Data columns (total 2 columns):\n",
      " #   Column     Non-Null Count    Dtype \n",
      "---  ------     --------------    ----- \n",
      " 0   sentiment  1600000 non-null  int64 \n",
      " 1   text       1600000 non-null  object\n",
      "dtypes: int64(1), object(1)\n",
      "memory usage: 24.4+ MB\n"
     ]
    }
   ],
   "source": [
    "df.info()"
   ]
  },
  {
   "cell_type": "code",
   "execution_count": 12,
   "id": "eac3d566",
   "metadata": {
    "execution": {
     "iopub.execute_input": "2024-02-24T07:08:44.789951Z",
     "iopub.status.busy": "2024-02-24T07:08:44.789316Z",
     "iopub.status.idle": "2024-02-24T07:08:44.803801Z",
     "shell.execute_reply": "2024-02-24T07:08:44.802755Z"
    },
    "papermill": {
     "duration": 0.034501,
     "end_time": "2024-02-24T07:08:44.805912",
     "exception": false,
     "start_time": "2024-02-24T07:08:44.771411",
     "status": "completed"
    },
    "tags": []
   },
   "outputs": [
    {
     "data": {
      "text/plain": [
       "2"
      ]
     },
     "execution_count": 12,
     "metadata": {},
     "output_type": "execute_result"
    }
   ],
   "source": [
    "df.sentiment.nunique()"
   ]
  },
  {
   "cell_type": "code",
   "execution_count": 13,
   "id": "b74db1e3",
   "metadata": {
    "execution": {
     "iopub.execute_input": "2024-02-24T07:08:44.840170Z",
     "iopub.status.busy": "2024-02-24T07:08:44.839373Z",
     "iopub.status.idle": "2024-02-24T07:08:44.852781Z",
     "shell.execute_reply": "2024-02-24T07:08:44.851854Z"
    },
    "papermill": {
     "duration": 0.032688,
     "end_time": "2024-02-24T07:08:44.854911",
     "exception": false,
     "start_time": "2024-02-24T07:08:44.822223",
     "status": "completed"
    },
    "tags": []
   },
   "outputs": [
    {
     "data": {
      "text/plain": [
       "array([0, 4])"
      ]
     },
     "execution_count": 13,
     "metadata": {},
     "output_type": "execute_result"
    }
   ],
   "source": [
    "df.sentiment.unique()"
   ]
  },
  {
   "cell_type": "code",
   "execution_count": 14,
   "id": "464c0583",
   "metadata": {
    "execution": {
     "iopub.execute_input": "2024-02-24T07:08:44.889579Z",
     "iopub.status.busy": "2024-02-24T07:08:44.889159Z",
     "iopub.status.idle": "2024-02-24T07:08:44.943914Z",
     "shell.execute_reply": "2024-02-24T07:08:44.942898Z"
    },
    "papermill": {
     "duration": 0.074662,
     "end_time": "2024-02-24T07:08:44.946335",
     "exception": false,
     "start_time": "2024-02-24T07:08:44.871673",
     "status": "completed"
    },
    "tags": []
   },
   "outputs": [],
   "source": [
    "df.sentiment = df.sentiment.map({0:\"Negative\",4:\"Positive\"})"
   ]
  },
  {
   "cell_type": "code",
   "execution_count": 15,
   "id": "16b8509b",
   "metadata": {
    "execution": {
     "iopub.execute_input": "2024-02-24T07:08:44.980288Z",
     "iopub.status.busy": "2024-02-24T07:08:44.979439Z",
     "iopub.status.idle": "2024-02-24T07:08:45.104849Z",
     "shell.execute_reply": "2024-02-24T07:08:45.103899Z"
    },
    "papermill": {
     "duration": 0.144571,
     "end_time": "2024-02-24T07:08:45.107003",
     "exception": false,
     "start_time": "2024-02-24T07:08:44.962432",
     "status": "completed"
    },
    "tags": []
   },
   "outputs": [
    {
     "data": {
      "text/plain": [
       "array(['Negative', 'Positive'], dtype=object)"
      ]
     },
     "execution_count": 15,
     "metadata": {},
     "output_type": "execute_result"
    }
   ],
   "source": [
    "df.sentiment.unique()"
   ]
  },
  {
   "cell_type": "code",
   "execution_count": 16,
   "id": "9075c086",
   "metadata": {
    "execution": {
     "iopub.execute_input": "2024-02-24T07:08:45.141413Z",
     "iopub.status.busy": "2024-02-24T07:08:45.140983Z",
     "iopub.status.idle": "2024-02-24T07:08:45.331820Z",
     "shell.execute_reply": "2024-02-24T07:08:45.330884Z"
    },
    "papermill": {
     "duration": 0.210432,
     "end_time": "2024-02-24T07:08:45.333854",
     "exception": false,
     "start_time": "2024-02-24T07:08:45.123422",
     "status": "completed"
    },
    "tags": []
   },
   "outputs": [
    {
     "data": {
      "text/plain": [
       "sentiment\n",
       "Negative    0.5\n",
       "Positive    0.5\n",
       "Name: proportion, dtype: float64"
      ]
     },
     "execution_count": 16,
     "metadata": {},
     "output_type": "execute_result"
    }
   ],
   "source": [
    "df.sentiment.value_counts(normalize=True)"
   ]
  },
  {
   "cell_type": "code",
   "execution_count": 17,
   "id": "27573bac",
   "metadata": {
    "execution": {
     "iopub.execute_input": "2024-02-24T07:08:45.368693Z",
     "iopub.status.busy": "2024-02-24T07:08:45.367824Z",
     "iopub.status.idle": "2024-02-24T07:08:47.051687Z",
     "shell.execute_reply": "2024-02-24T07:08:47.050751Z"
    },
    "papermill": {
     "duration": 1.703771,
     "end_time": "2024-02-24T07:08:47.053736",
     "exception": false,
     "start_time": "2024-02-24T07:08:45.349965",
     "status": "completed"
    },
    "tags": []
   },
   "outputs": [
    {
     "data": {
      "text/plain": [
       "<Axes: xlabel='sentiment', ylabel='count'>"
      ]
     },
     "execution_count": 17,
     "metadata": {},
     "output_type": "execute_result"
    },
    {
     "data": {
      "image/png": "[encoded data removed]",
      "text/plain": [
       "<Figure size 640x480 with 1 Axes>"
      ]
     },
     "metadata": {},
     "output_type": "display_data"
    }
   ],
   "source": [
    "sns.countplot(x=df.sentiment)"
   ]
  },
  {
   "cell_type": "code",
   "execution_count": 18,
   "id": "6d873ec3",
   "metadata": {
    "execution": {
     "iopub.execute_input": "2024-02-24T07:08:47.090184Z",
     "iopub.status.busy": "2024-02-24T07:08:47.089804Z",
     "iopub.status.idle": "2024-02-24T07:08:47.096146Z",
     "shell.execute_reply": "2024-02-24T07:08:47.095274Z"
    },
    "papermill": {
     "duration": 0.027282,
     "end_time": "2024-02-24T07:08:47.098071",
     "exception": false,
     "start_time": "2024-02-24T07:08:47.070789",
     "status": "completed"
    },
    "tags": []
   },
   "outputs": [
    {
     "data": {
      "text/plain": [
       "\"@switchfoot http://twitpic.com/2y1zl - Awww, that's a bummer.  You shoulda got David Carr of Third Day to do it. ;D\""
      ]
     },
     "execution_count": 18,
     "metadata": {},
     "output_type": "execute_result"
    }
   ],
   "source": [
    "df.text[0]"
   ]
  },
  {
   "cell_type": "code",
   "execution_count": 19,
   "id": "1ee15dd1",
   "metadata": {
    "execution": {
     "iopub.execute_input": "2024-02-24T07:08:47.133453Z",
     "iopub.status.busy": "2024-02-24T07:08:47.133094Z",
     "iopub.status.idle": "2024-02-24T07:08:47.139558Z",
     "shell.execute_reply": "2024-02-24T07:08:47.138708Z"
    },
    "papermill": {
     "duration": 0.026453,
     "end_time": "2024-02-24T07:08:47.141564",
     "exception": false,
     "start_time": "2024-02-24T07:08:47.115111",
     "status": "completed"
    },
    "tags": []
   },
   "outputs": [
    {
     "data": {
      "text/plain": [
       "'Awww that s a bummer You shoulda got David Carr of Third Day to do it D'"
      ]
     },
     "execution_count": 19,
     "metadata": {},
     "output_type": "execute_result"
    }
   ],
   "source": [
    "re_epr = \"@\\S+|http:\\S+|[^A-Za-z0-9]+\"\n",
    "a=re.sub(re_epr,\" \",df.text[0])\n",
    "a.strip()"
   ]
  },
  {
   "cell_type": "code",
   "execution_count": 20,
   "id": "6d9191ea",
   "metadata": {
    "execution": {
     "iopub.execute_input": "2024-02-24T07:08:47.177938Z",
     "iopub.status.busy": "2024-02-24T07:08:47.177058Z",
     "iopub.status.idle": "2024-02-24T07:08:47.183604Z",
     "shell.execute_reply": "2024-02-24T07:08:47.182698Z"
    },
    "papermill": {
     "duration": 0.02671,
     "end_time": "2024-02-24T07:08:47.185497",
     "exception": false,
     "start_time": "2024-02-24T07:08:47.158787",
     "status": "completed"
    },
    "tags": []
   },
   "outputs": [
    {
     "data": {
      "text/plain": [
       "' how  you ?'"
      ]
     },
     "execution_count": 20,
     "metadata": {},
     "output_type": "execute_result"
    }
   ],
   "source": [
    "b = \"@ram how @are you ?\"\n",
    "rex = \"@\\S+\"\n",
    "re.sub(rex,\"\",b)"
   ]
  },
  {
   "cell_type": "code",
   "execution_count": 21,
   "id": "e25b59a2",
   "metadata": {
    "execution": {
     "iopub.execute_input": "2024-02-24T07:08:47.221651Z",
     "iopub.status.busy": "2024-02-24T07:08:47.220805Z",
     "iopub.status.idle": "2024-02-24T07:08:47.225328Z",
     "shell.execute_reply": "2024-02-24T07:08:47.224410Z"
    },
    "papermill": {
     "duration": 0.024591,
     "end_time": "2024-02-24T07:08:47.227185",
     "exception": false,
     "start_time": "2024-02-24T07:08:47.202594",
     "status": "completed"
    },
    "tags": []
   },
   "outputs": [],
   "source": [
    "from nltk.corpus import stopwords"
   ]
  },
  {
   "cell_type": "code",
   "execution_count": 22,
   "id": "5a5cb409",
   "metadata": {
    "execution": {
     "iopub.execute_input": "2024-02-24T07:08:47.307782Z",
     "iopub.status.busy": "2024-02-24T07:08:47.306873Z",
     "iopub.status.idle": "2024-02-24T07:08:47.311287Z",
     "shell.execute_reply": "2024-02-24T07:08:47.310391Z"
    },
    "papermill": {
     "duration": 0.024815,
     "end_time": "2024-02-24T07:08:47.313139",
     "exception": false,
     "start_time": "2024-02-24T07:08:47.288324",
     "status": "completed"
    },
    "tags": []
   },
   "outputs": [],
   "source": [
    "stemmer = SnowballStemmer('english')"
   ]
  },
  {
   "cell_type": "code",
   "execution_count": 23,
   "id": "40dc47be",
   "metadata": {
    "execution": {
     "iopub.execute_input": "2024-02-24T07:08:47.348472Z",
     "iopub.status.busy": "2024-02-24T07:08:47.347661Z",
     "iopub.status.idle": "2024-02-24T07:08:47.354903Z",
     "shell.execute_reply": "2024-02-24T07:08:47.353973Z"
    },
    "papermill": {
     "duration": 0.026612,
     "end_time": "2024-02-24T07:08:47.356826",
     "exception": false,
     "start_time": "2024-02-24T07:08:47.330214",
     "status": "completed"
    },
    "tags": []
   },
   "outputs": [],
   "source": [
    "stop_word = stopwords.words('english')"
   ]
  },
  {
   "cell_type": "code",
   "execution_count": 24,
   "id": "93cf360e",
   "metadata": {
    "execution": {
     "iopub.execute_input": "2024-02-24T07:08:47.392982Z",
     "iopub.status.busy": "2024-02-24T07:08:47.392316Z",
     "iopub.status.idle": "2024-02-24T07:08:47.398022Z",
     "shell.execute_reply": "2024-02-24T07:08:47.397201Z"
    },
    "papermill": {
     "duration": 0.026131,
     "end_time": "2024-02-24T07:08:47.399881",
     "exception": false,
     "start_time": "2024-02-24T07:08:47.373750",
     "status": "completed"
    },
    "tags": []
   },
   "outputs": [],
   "source": [
    "def proc_data(seq, stem=True):\n",
    "    regx = \"@\\S+|http:\\S+|[^A-Za-z0-9]+\"\n",
    "    s = re.sub(regx,\" \",str(seq))\n",
    "    s=s.split()\n",
    "    out = []\n",
    "    for i in s:\n",
    "        if i not in stop_word:\n",
    "            if stem:\n",
    "                out.append(stemmer.stem(i))\n",
    "            else:\n",
    "                out.append(i)\n",
    "    return \" \".join(out)\n",
    "            \n",
    "        "
   ]
  },
  {
   "cell_type": "code",
   "execution_count": 25,
   "id": "649b0f9a",
   "metadata": {
    "execution": {
     "iopub.execute_input": "2024-02-24T07:08:47.434316Z",
     "iopub.status.busy": "2024-02-24T07:08:47.434041Z",
     "iopub.status.idle": "2024-02-24T07:08:47.438917Z",
     "shell.execute_reply": "2024-02-24T07:08:47.437983Z"
    },
    "papermill": {
     "duration": 0.02434,
     "end_time": "2024-02-24T07:08:47.440977",
     "exception": false,
     "start_time": "2024-02-24T07:08:47.416637",
     "status": "completed"
    },
    "tags": []
   },
   "outputs": [
    {
     "name": "stdout",
     "output_type": "stream",
     "text": [
      "helklo hello bath bath write write\n"
     ]
    }
   ],
   "source": [
    "s = \"@am http:sdf.com helklo hello bathing bath writes writing\"\n",
    "x=proc_data(s)\n",
    "print(x)"
   ]
  },
  {
   "cell_type": "code",
   "execution_count": 26,
   "id": "e35a29ab",
   "metadata": {
    "execution": {
     "iopub.execute_input": "2024-02-24T07:08:47.476084Z",
     "iopub.status.busy": "2024-02-24T07:08:47.475551Z",
     "iopub.status.idle": "2024-02-24T07:08:47.480463Z",
     "shell.execute_reply": "2024-02-24T07:08:47.479452Z"
    },
    "papermill": {
     "duration": 0.024705,
     "end_time": "2024-02-24T07:08:47.482490",
     "exception": false,
     "start_time": "2024-02-24T07:08:47.457785",
     "status": "completed"
    },
    "tags": []
   },
   "outputs": [
    {
     "name": "stdout",
     "output_type": "stream",
     "text": [
      "helklo hello bath bath write write\n"
     ]
    }
   ],
   "source": [
    "x=proc_data(s,stem=True)\n",
    "print(x)"
   ]
  },
  {
   "cell_type": "code",
   "execution_count": 27,
   "id": "e3224668",
   "metadata": {
    "execution": {
     "iopub.execute_input": "2024-02-24T07:08:47.517326Z",
     "iopub.status.busy": "2024-02-24T07:08:47.517073Z",
     "iopub.status.idle": "2024-02-24T07:13:28.439268Z",
     "shell.execute_reply": "2024-02-24T07:13:28.438070Z"
    },
    "papermill": {
     "duration": 280.942556,
     "end_time": "2024-02-24T07:13:28.442042",
     "exception": false,
     "start_time": "2024-02-24T07:08:47.499486",
     "status": "completed"
    },
    "tags": []
   },
   "outputs": [],
   "source": [
    "df.text = df.text.apply(proc_data)"
   ]
  },
  {
   "cell_type": "code",
   "execution_count": 28,
   "id": "a9459c00",
   "metadata": {
    "execution": {
     "iopub.execute_input": "2024-02-24T07:13:28.479096Z",
     "iopub.status.busy": "2024-02-24T07:13:28.478676Z",
     "iopub.status.idle": "2024-02-24T07:13:28.488091Z",
     "shell.execute_reply": "2024-02-24T07:13:28.487231Z"
    },
    "papermill": {
     "duration": 0.030667,
     "end_time": "2024-02-24T07:13:28.490518",
     "exception": false,
     "start_time": "2024-02-24T07:13:28.459851",
     "status": "completed"
    },
    "tags": []
   },
   "outputs": [
    {
     "data": {
      "text/html": [
       "<div>\n",
       "<style scoped>\n",
       "    .dataframe tbody tr th:only-of-type {\n",
       "        vertical-align: middle;\n",
       "    }\n",
       "\n",
       "    .dataframe tbody tr th {\n",
       "        vertical-align: top;\n",
       "    }\n",
       "\n",
       "    .dataframe thead th {\n",
       "        text-align: right;\n",
       "    }\n",
       "</style>\n",
       "<table border=\"1\" class=\"dataframe\">\n",
       "  <thead>\n",
       "    <tr style=\"text-align: right;\">\n",
       "      <th></th>\n",
       "      <th>sentiment</th>\n",
       "      <th>text</th>\n",
       "    </tr>\n",
       "  </thead>\n",
       "  <tbody>\n",
       "    <tr>\n",
       "      <th>0</th>\n",
       "      <td>Negative</td>\n",
       "      <td>awww bummer you shoulda got david carr third d...</td>\n",
       "    </tr>\n",
       "    <tr>\n",
       "      <th>1</th>\n",
       "      <td>Negative</td>\n",
       "      <td>upset updat facebook text might cri result sch...</td>\n",
       "    </tr>\n",
       "    <tr>\n",
       "      <th>2</th>\n",
       "      <td>Negative</td>\n",
       "      <td>i dive mani time ball manag save 50 the rest g...</td>\n",
       "    </tr>\n",
       "    <tr>\n",
       "      <th>3</th>\n",
       "      <td>Negative</td>\n",
       "      <td>whole bodi feel itchi like fire</td>\n",
       "    </tr>\n",
       "    <tr>\n",
       "      <th>4</th>\n",
       "      <td>Negative</td>\n",
       "      <td>behav mad i see</td>\n",
       "    </tr>\n",
       "  </tbody>\n",
       "</table>\n",
       "</div>"
      ],
      "text/plain": [
       "  sentiment                                               text\n",
       "0  Negative  awww bummer you shoulda got david carr third d...\n",
       "1  Negative  upset updat facebook text might cri result sch...\n",
       "2  Negative  i dive mani time ball manag save 50 the rest g...\n",
       "3  Negative                    whole bodi feel itchi like fire\n",
       "4  Negative                                    behav mad i see"
      ]
     },
     "execution_count": 28,
     "metadata": {},
     "output_type": "execute_result"
    }
   ],
   "source": [
    "df.head()"
   ]
  },
  {
   "cell_type": "code",
   "execution_count": 29,
   "id": "7ad30171",
   "metadata": {
    "execution": {
     "iopub.execute_input": "2024-02-24T07:13:28.528040Z",
     "iopub.status.busy": "2024-02-24T07:13:28.527321Z",
     "iopub.status.idle": "2024-02-24T07:13:28.531491Z",
     "shell.execute_reply": "2024-02-24T07:13:28.530620Z"
    },
    "papermill": {
     "duration": 0.024577,
     "end_time": "2024-02-24T07:13:28.533502",
     "exception": false,
     "start_time": "2024-02-24T07:13:28.508925",
     "status": "completed"
    },
    "tags": []
   },
   "outputs": [],
   "source": [
    "#df.sentiment = df.sentiment.map({0:\"Negative\",4:\"Positive\"})"
   ]
  },
  {
   "cell_type": "code",
   "execution_count": 30,
   "id": "cae6fdef",
   "metadata": {
    "execution": {
     "iopub.execute_input": "2024-02-24T07:13:28.570707Z",
     "iopub.status.busy": "2024-02-24T07:13:28.570326Z",
     "iopub.status.idle": "2024-02-24T07:13:28.580499Z",
     "shell.execute_reply": "2024-02-24T07:13:28.579518Z"
    },
    "papermill": {
     "duration": 0.031619,
     "end_time": "2024-02-24T07:13:28.582979",
     "exception": false,
     "start_time": "2024-02-24T07:13:28.551360",
     "status": "completed"
    },
    "tags": []
   },
   "outputs": [
    {
     "data": {
      "text/html": [
       "<div>\n",
       "<style scoped>\n",
       "    .dataframe tbody tr th:only-of-type {\n",
       "        vertical-align: middle;\n",
       "    }\n",
       "\n",
       "    .dataframe tbody tr th {\n",
       "        vertical-align: top;\n",
       "    }\n",
       "\n",
       "    .dataframe thead th {\n",
       "        text-align: right;\n",
       "    }\n",
       "</style>\n",
       "<table border=\"1\" class=\"dataframe\">\n",
       "  <thead>\n",
       "    <tr style=\"text-align: right;\">\n",
       "      <th></th>\n",
       "      <th>sentiment</th>\n",
       "      <th>text</th>\n",
       "    </tr>\n",
       "  </thead>\n",
       "  <tbody>\n",
       "    <tr>\n",
       "      <th>0</th>\n",
       "      <td>Negative</td>\n",
       "      <td>awww bummer you shoulda got david carr third d...</td>\n",
       "    </tr>\n",
       "    <tr>\n",
       "      <th>1</th>\n",
       "      <td>Negative</td>\n",
       "      <td>upset updat facebook text might cri result sch...</td>\n",
       "    </tr>\n",
       "    <tr>\n",
       "      <th>2</th>\n",
       "      <td>Negative</td>\n",
       "      <td>i dive mani time ball manag save 50 the rest g...</td>\n",
       "    </tr>\n",
       "    <tr>\n",
       "      <th>3</th>\n",
       "      <td>Negative</td>\n",
       "      <td>whole bodi feel itchi like fire</td>\n",
       "    </tr>\n",
       "    <tr>\n",
       "      <th>4</th>\n",
       "      <td>Negative</td>\n",
       "      <td>behav mad i see</td>\n",
       "    </tr>\n",
       "  </tbody>\n",
       "</table>\n",
       "</div>"
      ],
      "text/plain": [
       "  sentiment                                               text\n",
       "0  Negative  awww bummer you shoulda got david carr third d...\n",
       "1  Negative  upset updat facebook text might cri result sch...\n",
       "2  Negative  i dive mani time ball manag save 50 the rest g...\n",
       "3  Negative                    whole bodi feel itchi like fire\n",
       "4  Negative                                    behav mad i see"
      ]
     },
     "execution_count": 30,
     "metadata": {},
     "output_type": "execute_result"
    }
   ],
   "source": [
    "df.head()"
   ]
  },
  {
   "cell_type": "code",
   "execution_count": 31,
   "id": "8f02d1e5",
   "metadata": {
    "execution": {
     "iopub.execute_input": "2024-02-24T07:13:28.622380Z",
     "iopub.status.busy": "2024-02-24T07:13:28.621964Z",
     "iopub.status.idle": "2024-02-24T07:13:29.019415Z",
     "shell.execute_reply": "2024-02-24T07:13:29.018569Z"
    },
    "papermill": {
     "duration": 0.419263,
     "end_time": "2024-02-24T07:13:29.021809",
     "exception": false,
     "start_time": "2024-02-24T07:13:28.602546",
     "status": "completed"
    },
    "tags": []
   },
   "outputs": [],
   "source": [
    "train,test = train_test_split(df,test_size=0.2,random_state=3)"
   ]
  },
  {
   "cell_type": "code",
   "execution_count": 32,
   "id": "209d5d9b",
   "metadata": {
    "execution": {
     "iopub.execute_input": "2024-02-24T07:13:29.060181Z",
     "iopub.status.busy": "2024-02-24T07:13:29.059260Z",
     "iopub.status.idle": "2024-02-24T07:13:29.065388Z",
     "shell.execute_reply": "2024-02-24T07:13:29.064433Z"
    },
    "papermill": {
     "duration": 0.027553,
     "end_time": "2024-02-24T07:13:29.067507",
     "exception": false,
     "start_time": "2024-02-24T07:13:29.039954",
     "status": "completed"
    },
    "tags": []
   },
   "outputs": [
    {
     "data": {
      "text/plain": [
       "(1280000, 2)"
      ]
     },
     "execution_count": 32,
     "metadata": {},
     "output_type": "execute_result"
    }
   ],
   "source": [
    "train.shape"
   ]
  },
  {
   "cell_type": "code",
   "execution_count": 33,
   "id": "c5a60f35",
   "metadata": {
    "execution": {
     "iopub.execute_input": "2024-02-24T07:13:29.105254Z",
     "iopub.status.busy": "2024-02-24T07:13:29.104874Z",
     "iopub.status.idle": "2024-02-24T07:13:29.110918Z",
     "shell.execute_reply": "2024-02-24T07:13:29.110030Z"
    },
    "papermill": {
     "duration": 0.027177,
     "end_time": "2024-02-24T07:13:29.112938",
     "exception": false,
     "start_time": "2024-02-24T07:13:29.085761",
     "status": "completed"
    },
    "tags": []
   },
   "outputs": [
    {
     "data": {
      "text/plain": [
       "(320000, 2)"
      ]
     },
     "execution_count": 33,
     "metadata": {},
     "output_type": "execute_result"
    }
   ],
   "source": [
    "test.shape"
   ]
  },
  {
   "cell_type": "code",
   "execution_count": 34,
   "id": "18147e80",
   "metadata": {
    "execution": {
     "iopub.execute_input": "2024-02-24T07:13:29.151617Z",
     "iopub.status.busy": "2024-02-24T07:13:29.150664Z",
     "iopub.status.idle": "2024-02-24T07:13:29.156956Z",
     "shell.execute_reply": "2024-02-24T07:13:29.156022Z"
    },
    "papermill": {
     "duration": 0.02773,
     "end_time": "2024-02-24T07:13:29.158998",
     "exception": false,
     "start_time": "2024-02-24T07:13:29.131268",
     "status": "completed"
    },
    "tags": []
   },
   "outputs": [
    {
     "data": {
      "text/plain": [
       "pandas.core.frame.DataFrame"
      ]
     },
     "execution_count": 34,
     "metadata": {},
     "output_type": "execute_result"
    }
   ],
   "source": [
    "type(train)"
   ]
  },
  {
   "cell_type": "code",
   "execution_count": 35,
   "id": "80e4a6ba",
   "metadata": {
    "execution": {
     "iopub.execute_input": "2024-02-24T07:13:29.197765Z",
     "iopub.status.busy": "2024-02-24T07:13:29.196876Z",
     "iopub.status.idle": "2024-02-24T07:13:29.294624Z",
     "shell.execute_reply": "2024-02-24T07:13:29.293831Z"
    },
    "papermill": {
     "duration": 0.119502,
     "end_time": "2024-02-24T07:13:29.296957",
     "exception": false,
     "start_time": "2024-02-24T07:13:29.177455",
     "status": "completed"
    },
    "tags": []
   },
   "outputs": [],
   "source": [
    "from tensorflow.keras.preprocessing.text import Tokenizer\n",
    "from tensorflow.keras.preprocessing.sequence import pad_sequences"
   ]
  },
  {
   "cell_type": "code",
   "execution_count": 36,
   "id": "09f82ac2",
   "metadata": {
    "execution": {
     "iopub.execute_input": "2024-02-24T07:13:29.335590Z",
     "iopub.status.busy": "2024-02-24T07:13:29.334664Z",
     "iopub.status.idle": "2024-02-24T07:13:56.097302Z",
     "shell.execute_reply": "2024-02-24T07:13:56.095947Z"
    },
    "papermill": {
     "duration": 26.784188,
     "end_time": "2024-02-24T07:13:56.099625",
     "exception": false,
     "start_time": "2024-02-24T07:13:29.315437",
     "status": "completed"
    },
    "tags": []
   },
   "outputs": [
    {
     "name": "stdout",
     "output_type": "stream",
     "text": [
      "288547\n"
     ]
    }
   ],
   "source": [
    "token = Tokenizer(oov_token='#OOV')\n",
    "token.fit_on_texts(df.text)\n",
    "vocab_size = len(token.word_index)\n",
    "print(vocab_size)"
   ]
  },
  {
   "cell_type": "code",
   "execution_count": 37,
   "id": "6908c4c2",
   "metadata": {
    "execution": {
     "iopub.execute_input": "2024-02-24T07:13:56.139539Z",
     "iopub.status.busy": "2024-02-24T07:13:56.138518Z",
     "iopub.status.idle": "2024-02-24T07:14:26.907575Z",
     "shell.execute_reply": "2024-02-24T07:14:26.906769Z"
    },
    "papermill": {
     "duration": 30.791661,
     "end_time": "2024-02-24T07:14:26.909965",
     "exception": false,
     "start_time": "2024-02-24T07:13:56.118304",
     "status": "completed"
    },
    "tags": []
   },
   "outputs": [],
   "source": [
    "x_train = pad_sequences(token.texts_to_sequences(train.text),maxlen=30)\n",
    "x_test = pad_sequences(token.texts_to_sequences(test.text),maxlen=30)"
   ]
  },
  {
   "cell_type": "code",
   "execution_count": 38,
   "id": "a261d767",
   "metadata": {
    "execution": {
     "iopub.execute_input": "2024-02-24T07:14:26.949642Z",
     "iopub.status.busy": "2024-02-24T07:14:26.948734Z",
     "iopub.status.idle": "2024-02-24T07:14:26.954966Z",
     "shell.execute_reply": "2024-02-24T07:14:26.954074Z"
    },
    "papermill": {
     "duration": 0.028808,
     "end_time": "2024-02-24T07:14:26.957337",
     "exception": false,
     "start_time": "2024-02-24T07:14:26.928529",
     "status": "completed"
    },
    "tags": []
   },
   "outputs": [
    {
     "data": {
      "text/plain": [
       "array([  0,   0,   0,   0,   0,   0,   0,   0,   0,   0,   0,   0,   0,\n",
       "         0,   0,   0,   0,   0,   0,   0,   0,   0,   0,   0,   0,   0,\n",
       "         0,  16, 480,  89], dtype=int32)"
      ]
     },
     "execution_count": 38,
     "metadata": {},
     "output_type": "execute_result"
    }
   ],
   "source": [
    "x_train[1]"
   ]
  },
  {
   "cell_type": "code",
   "execution_count": 39,
   "id": "43f89452",
   "metadata": {
    "execution": {
     "iopub.execute_input": "2024-02-24T07:14:26.996275Z",
     "iopub.status.busy": "2024-02-24T07:14:26.995911Z",
     "iopub.status.idle": "2024-02-24T07:14:27.359681Z",
     "shell.execute_reply": "2024-02-24T07:14:27.358851Z"
    },
    "papermill": {
     "duration": 0.385751,
     "end_time": "2024-02-24T07:14:27.362145",
     "exception": false,
     "start_time": "2024-02-24T07:14:26.976394",
     "status": "completed"
    },
    "tags": []
   },
   "outputs": [],
   "source": [
    "le = LabelEncoder()\n",
    "y_train = le.fit_transform(train.sentiment)\n",
    "y_test = le.transform(test.sentiment)"
   ]
  },
  {
   "cell_type": "code",
   "execution_count": 40,
   "id": "f300b9af",
   "metadata": {
    "execution": {
     "iopub.execute_input": "2024-02-24T07:14:27.400477Z",
     "iopub.status.busy": "2024-02-24T07:14:27.399860Z",
     "iopub.status.idle": "2024-02-24T07:14:27.404911Z",
     "shell.execute_reply": "2024-02-24T07:14:27.404075Z"
    },
    "papermill": {
     "duration": 0.026635,
     "end_time": "2024-02-24T07:14:27.407303",
     "exception": false,
     "start_time": "2024-02-24T07:14:27.380668",
     "status": "completed"
    },
    "tags": []
   },
   "outputs": [
    {
     "name": "stdout",
     "output_type": "stream",
     "text": [
      "(1280000, 1)\n",
      "(320000, 1)\n"
     ]
    }
   ],
   "source": [
    "y_train = y_train.reshape(-1, 1)\n",
    "y_test  = y_test.reshape(-1, 1)\n",
    "print(y_train.shape)\n",
    "print(y_test.shape)"
   ]
  },
  {
   "cell_type": "code",
   "execution_count": 41,
   "id": "24808624",
   "metadata": {
    "execution": {
     "iopub.execute_input": "2024-02-24T07:14:27.444402Z",
     "iopub.status.busy": "2024-02-24T07:14:27.444121Z",
     "iopub.status.idle": "2024-02-24T07:14:27.450034Z",
     "shell.execute_reply": "2024-02-24T07:14:27.449153Z"
    },
    "papermill": {
     "duration": 0.026643,
     "end_time": "2024-02-24T07:14:27.451963",
     "exception": false,
     "start_time": "2024-02-24T07:14:27.425320",
     "status": "completed"
    },
    "tags": []
   },
   "outputs": [
    {
     "data": {
      "text/plain": [
       "'/kaggle/working'"
      ]
     },
     "execution_count": 41,
     "metadata": {},
     "output_type": "execute_result"
    }
   ],
   "source": [
    "pwd"
   ]
  },
  {
   "cell_type": "code",
   "execution_count": 42,
   "id": "7b0bb8cc",
   "metadata": {
    "execution": {
     "iopub.execute_input": "2024-02-24T07:14:27.489861Z",
     "iopub.status.busy": "2024-02-24T07:14:27.489554Z",
     "iopub.status.idle": "2024-02-24T07:14:28.475374Z",
     "shell.execute_reply": "2024-02-24T07:14:28.474193Z"
    },
    "papermill": {
     "duration": 1.007323,
     "end_time": "2024-02-24T07:14:28.477737",
     "exception": false,
     "start_time": "2024-02-24T07:14:27.470414",
     "status": "completed"
    },
    "tags": []
   },
   "outputs": [
    {
     "name": "stdout",
     "output_type": "stream",
     "text": [
      "__notebook__.ipynb\r\n"
     ]
    }
   ],
   "source": [
    "ls"
   ]
  },
  {
   "cell_type": "code",
   "execution_count": 43,
   "id": "5410c545",
   "metadata": {
    "execution": {
     "iopub.execute_input": "2024-02-24T07:14:28.517210Z",
     "iopub.status.busy": "2024-02-24T07:14:28.516808Z",
     "iopub.status.idle": "2024-02-24T07:17:10.956463Z",
     "shell.execute_reply": "2024-02-24T07:17:10.955287Z"
    },
    "papermill": {
     "duration": 162.462401,
     "end_time": "2024-02-24T07:17:10.958899",
     "exception": false,
     "start_time": "2024-02-24T07:14:28.496498",
     "status": "completed"
    },
    "tags": []
   },
   "outputs": [
    {
     "name": "stdout",
     "output_type": "stream",
     "text": [
      "--2024-02-24 07:14:29--  http://nlp.stanford.edu/data/glove.6B.zip\r\n",
      "Resolving nlp.stanford.edu (nlp.stanford.edu)... 171.64.67.140\r\n",
      "Connecting to nlp.stanford.edu (nlp.stanford.edu)|171.64.67.140|:80... connected.\r\n",
      "HTTP request sent, awaiting response... 302 Found\r\n",
      "Location: https://nlp.stanford.edu/data/glove.6B.zip [following]\r\n",
      "--2024-02-24 07:14:29--  https://nlp.stanford.edu/data/glove.6B.zip\r\n",
      "Connecting to nlp.stanford.edu (nlp.stanford.edu)|171.64.67.140|:443... connected.\r\n",
      "HTTP request sent, awaiting response... 301 Moved Permanently\r\n",
      "Location: https://downloads.cs.stanford.edu/nlp/data/glove.6B.zip [following]\r\n",
      "--2024-02-24 07:14:30--  https://downloads.cs.stanford.edu/nlp/data/glove.6B.zip\r\n",
      "Resolving downloads.cs.stanford.edu (downloads.cs.stanford.edu)... 171.64.64.22\r\n",
      "Connecting to downloads.cs.stanford.edu (downloads.cs.stanford.edu)|171.64.64.22|:443... connected.\r\n",
      "HTTP request sent, awaiting response... 200 OK\r\n",
      "Length: 862182613 (822M) [application/zip]\r\n",
      "Saving to: 'glove.6B.zip'\r\n",
      "\r\n",
      "glove.6B.zip        100%[===================>] 822.24M  4.74MB/s    in 2m 40s  \r\n",
      "\r\n",
      "2024-02-24 07:17:10 (5.15 MB/s) - 'glove.6B.zip' saved [862182613/862182613]\r\n",
      "\r\n"
     ]
    }
   ],
   "source": [
    "!wget http://nlp.stanford.edu/data/glove.6B.zip"
   ]
  },
  {
   "cell_type": "code",
   "execution_count": 44,
   "id": "1c15c5e9",
   "metadata": {
    "execution": {
     "iopub.execute_input": "2024-02-24T07:17:11.117913Z",
     "iopub.status.busy": "2024-02-24T07:17:11.116976Z",
     "iopub.status.idle": "2024-02-24T07:17:31.625870Z",
     "shell.execute_reply": "2024-02-24T07:17:31.624542Z"
    },
    "papermill": {
     "duration": 20.592758,
     "end_time": "2024-02-24T07:17:31.629704",
     "exception": false,
     "start_time": "2024-02-24T07:17:11.036946",
     "status": "completed"
    },
    "tags": []
   },
   "outputs": [
    {
     "name": "stdout",
     "output_type": "stream",
     "text": [
      "Archive:  glove.6B.zip\r\n",
      "  inflating: glove.6B.50d.txt        \r\n",
      "  inflating: glove.6B.100d.txt       \r\n",
      "  inflating: glove.6B.200d.txt       \r\n",
      "  inflating: glove.6B.300d.txt       \r\n"
     ]
    }
   ],
   "source": [
    "!unzip glove.6B.zip"
   ]
  },
  {
   "cell_type": "code",
   "execution_count": 45,
   "id": "887ff154",
   "metadata": {
    "execution": {
     "iopub.execute_input": "2024-02-24T07:17:31.821742Z",
     "iopub.status.busy": "2024-02-24T07:17:31.821307Z",
     "iopub.status.idle": "2024-02-24T07:17:37.863847Z",
     "shell.execute_reply": "2024-02-24T07:17:37.862418Z"
    },
    "papermill": {
     "duration": 6.139026,
     "end_time": "2024-02-24T07:17:37.866535",
     "exception": false,
     "start_time": "2024-02-24T07:17:31.727509",
     "status": "completed"
    },
    "tags": []
   },
   "outputs": [],
   "source": [
    "rm glove.6B.zip"
   ]
  },
  {
   "cell_type": "code",
   "execution_count": 46,
   "id": "8728268c",
   "metadata": {
    "execution": {
     "iopub.execute_input": "2024-02-24T07:17:39.393844Z",
     "iopub.status.busy": "2024-02-24T07:17:39.393322Z",
     "iopub.status.idle": "2024-02-24T07:17:39.399986Z",
     "shell.execute_reply": "2024-02-24T07:17:39.398970Z"
    },
    "papermill": {
     "duration": 1.381847,
     "end_time": "2024-02-24T07:17:39.403472",
     "exception": false,
     "start_time": "2024-02-24T07:17:38.021625",
     "status": "completed"
    },
    "tags": []
   },
   "outputs": [],
   "source": [
    "GLOVE_EMB = '/kaggle/working/glove.6B.300d.txt'\n",
    "EMBEDDING_DIM = 300\n",
    "LR =0.01\n",
    "BATCH_SIZE = 1024\n",
    "EPOCHS = 40\n",
    "MODEL_PATH = '.../output/kaggle/working/best_model.hdf5'"
   ]
  },
  {
   "cell_type": "code",
   "execution_count": 47,
   "id": "50c4bfbf",
   "metadata": {
    "execution": {
     "iopub.execute_input": "2024-02-24T07:17:39.569158Z",
     "iopub.status.busy": "2024-02-24T07:17:39.568263Z",
     "iopub.status.idle": "2024-02-24T07:18:13.267402Z",
     "shell.execute_reply": "2024-02-24T07:18:13.266447Z"
    },
    "papermill": {
     "duration": 33.86203,
     "end_time": "2024-02-24T07:18:13.347426",
     "exception": false,
     "start_time": "2024-02-24T07:17:39.485396",
     "status": "completed"
    },
    "tags": []
   },
   "outputs": [
    {
     "name": "stdout",
     "output_type": "stream",
     "text": [
      "found 400000 words\n"
     ]
    }
   ],
   "source": [
    "embedding_index = {}\n",
    "f = open(GLOVE_EMB)\n",
    "for l in f:\n",
    "    val = l.split()\n",
    "    word = val[0]\n",
    "    vec = np.asarray(val[1:],dtype='float')\n",
    "    embedding_index[word]= vec\n",
    "f.close()\n",
    "print(f\"found {len(embedding_index)} words\")"
   ]
  },
  {
   "cell_type": "code",
   "execution_count": 48,
   "id": "f3821919",
   "metadata": {
    "execution": {
     "iopub.execute_input": "2024-02-24T07:18:13.509457Z",
     "iopub.status.busy": "2024-02-24T07:18:13.508495Z",
     "iopub.status.idle": "2024-02-24T07:18:13.512646Z",
     "shell.execute_reply": "2024-02-24T07:18:13.511918Z"
    },
    "papermill": {
     "duration": 0.086533,
     "end_time": "2024-02-24T07:18:13.514534",
     "exception": false,
     "start_time": "2024-02-24T07:18:13.428001",
     "status": "completed"
    },
    "tags": []
   },
   "outputs": [],
   "source": [
    "#list(embedding_index.items())[0]"
   ]
  },
  {
   "cell_type": "code",
   "execution_count": 49,
   "id": "41d7e1f0",
   "metadata": {
    "execution": {
     "iopub.execute_input": "2024-02-24T07:18:13.675786Z",
     "iopub.status.busy": "2024-02-24T07:18:13.675408Z",
     "iopub.status.idle": "2024-02-24T07:18:14.107451Z",
     "shell.execute_reply": "2024-02-24T07:18:14.106432Z"
    },
    "papermill": {
     "duration": 0.516,
     "end_time": "2024-02-24T07:18:14.109872",
     "exception": false,
     "start_time": "2024-02-24T07:18:13.593872",
     "status": "completed"
    },
    "tags": []
   },
   "outputs": [],
   "source": [
    "token_index = token.word_index\n",
    "embedding_matrix = np.zeros((vocab_size,EMBEDDING_DIM))\n",
    "for w,i in token_index.items():\n",
    "    vec = embedding_index.get(w)\n",
    "    if vec is not None:\n",
    "        embedding_matrix[i]=vec"
   ]
  },
  {
   "cell_type": "code",
   "execution_count": 50,
   "id": "d2d37f94",
   "metadata": {
    "execution": {
     "iopub.execute_input": "2024-02-24T07:18:14.271037Z",
     "iopub.status.busy": "2024-02-24T07:18:14.270207Z",
     "iopub.status.idle": "2024-02-24T07:18:14.280181Z",
     "shell.execute_reply": "2024-02-24T07:18:14.279306Z"
    },
    "papermill": {
     "duration": 0.091648,
     "end_time": "2024-02-24T07:18:14.282058",
     "exception": false,
     "start_time": "2024-02-24T07:18:14.190410",
     "status": "completed"
    },
    "tags": []
   },
   "outputs": [
    {
     "data": {
      "text/plain": [
       "array([-1.3292e-01,  1.6985e-01, -1.4360e-01, -8.8722e-02,  7.9510e-02,\n",
       "       -1.4212e-01, -2.4209e-02, -2.6291e-01, -7.4814e-02, -2.3600e+00,\n",
       "        3.4830e-01, -9.1722e-02, -5.3906e-02,  3.0418e-01, -1.3286e-01,\n",
       "        5.0341e-03, -1.5056e-01,  2.3562e-03,  6.8321e-02,  3.4246e-01,\n",
       "        3.9891e-01,  5.8813e-01,  6.0618e-02, -1.9871e-01, -4.0465e-01,\n",
       "       -1.0706e-01, -5.9312e-03, -6.4842e-01,  1.9080e-01, -1.7630e-01,\n",
       "        9.2407e-02,  3.8685e-01, -3.1085e-01, -3.2574e-01, -1.6823e+00,\n",
       "        2.5336e-01, -2.4647e-01, -1.0874e-01,  7.6402e-03,  3.3880e-01,\n",
       "       -5.9736e-02, -8.5940e-01, -8.0964e-02, -2.2981e-01,  1.7709e-01,\n",
       "        8.2094e-02,  7.4416e-01,  3.6873e-01,  1.3740e-01,  2.9408e-01,\n",
       "        1.0647e-01, -1.3246e-01,  1.2134e-01, -1.4273e-01, -5.3270e-01,\n",
       "        6.4936e-01,  4.9657e-01,  3.0029e-01,  6.7226e-01,  1.8005e-01,\n",
       "        8.8050e-01,  3.8144e-02, -8.7140e-02,  7.6400e-01, -1.2107e-01,\n",
       "       -4.2809e-01, -1.2588e-01,  8.8377e-04,  1.0596e-01, -3.0802e-01,\n",
       "        2.2887e-01, -2.5468e-01, -3.6484e-01,  7.4524e-01, -1.5217e-01,\n",
       "       -5.5619e-02,  1.2049e-01,  3.9876e-01, -2.1991e-01, -1.8444e-01,\n",
       "       -9.0398e-02,  1.4077e-01,  1.2865e+00, -4.0910e-01,  2.7999e-01,\n",
       "        4.2089e-01, -7.0627e-01,  7.9004e-01,  1.3804e-01,  3.0273e-01,\n",
       "       -1.8534e-01,  1.8121e-01, -7.1732e-01, -5.4259e-01, -2.2513e-03,\n",
       "        3.0463e-01, -4.9588e-01, -1.7462e-01,  2.1335e-02, -2.1341e-01,\n",
       "       -8.2391e-02, -3.7676e-01, -2.8001e-01, -2.4238e-01, -3.5249e-01,\n",
       "       -2.4116e-01,  2.9776e-01,  3.7027e-01, -1.7822e-01,  4.7537e-01,\n",
       "       -7.3484e-02, -2.9747e-01, -3.6304e-02, -8.4941e-01,  4.5171e-02,\n",
       "        2.8779e-01, -1.7543e-01, -2.7925e-01, -9.9789e-02, -1.3493e-01,\n",
       "       -7.8184e-02, -3.5548e-01,  2.1692e-01,  2.5895e-01,  2.6050e-01,\n",
       "       -4.3193e-01,  1.2076e-01,  2.8405e-01,  1.5691e-01,  2.1351e-01,\n",
       "        5.7355e-01, -4.7598e-01,  4.5758e-02,  6.5907e-02, -2.4157e-01,\n",
       "        1.5724e-01, -3.9697e-01, -8.7238e-02,  1.1132e-02,  4.6365e-01,\n",
       "       -4.3082e-02,  5.6318e-01,  5.2448e-01,  3.8723e-01, -4.4893e-01,\n",
       "       -3.6617e-03, -1.4007e-01,  2.9963e-02, -1.4168e-01,  5.1547e-02,\n",
       "       -7.6266e-01, -8.0719e-02, -1.0827e-01,  2.0345e-02, -1.4594e-01,\n",
       "        1.3781e-01,  3.5217e-01, -1.9425e-01,  4.7376e-01, -2.7950e-01,\n",
       "       -8.3159e-02, -6.1386e-01, -3.4310e-01, -9.9814e-02, -2.4054e-02,\n",
       "        2.0529e-01, -2.2244e-02,  5.9102e-01,  1.7002e-01,  5.2526e-02,\n",
       "       -1.9144e-01,  1.2114e-01, -5.0691e-01, -5.1987e-01,  5.4760e-02,\n",
       "        1.5022e-01,  9.2612e-02,  3.4548e-01,  3.5603e-01,  2.3423e-01,\n",
       "        1.3452e-01,  1.5486e-02,  1.7266e-01, -1.8454e-01, -9.8682e-02,\n",
       "       -2.1803e-01, -1.5786e-01,  7.0495e-01,  3.6798e-01,  2.6764e-01,\n",
       "       -1.4352e-01, -5.4373e-02,  4.3326e-01, -1.6332e-01,  2.1658e-02,\n",
       "       -5.3408e-01, -2.5548e-02,  4.1534e-01, -1.6234e-01, -4.0243e-01,\n",
       "        2.0005e+00, -1.3084e-01,  1.1824e-01,  1.8055e-01,  3.1811e-01,\n",
       "        1.5508e-01,  3.6686e-02,  3.0747e-01,  1.9520e-01, -4.4309e-02,\n",
       "       -6.5875e-01,  1.8604e-01, -1.6245e-01,  4.0257e-02, -5.3955e-01,\n",
       "       -1.2123e-02, -3.0579e-03,  1.7945e-02,  1.4503e-01, -3.5640e-01,\n",
       "        4.3888e-01, -1.1453e-01, -1.5161e-01,  2.4664e-01,  4.3432e-01,\n",
       "        3.1283e-01,  4.2919e-01, -1.2493e-01, -1.1767e-01, -2.2056e-04,\n",
       "       -3.5881e-01, -6.7778e-02,  2.1444e-01, -7.9171e-01, -1.1005e-01,\n",
       "        3.0940e-01, -3.0179e-03,  1.3354e-01, -2.0436e-01, -1.6333e-01,\n",
       "       -4.8577e-02, -5.1513e-02,  3.1318e-02,  3.6954e-01, -4.7448e-02,\n",
       "       -7.6416e-02, -7.8986e-05, -7.2528e-02, -8.4875e-02, -1.4013e-01,\n",
       "        2.0147e-01, -2.7516e-01, -4.8958e-02,  3.1184e-01,  7.1849e-01,\n",
       "        3.0594e-01,  4.7019e-01, -2.8368e-01,  1.0073e-01, -4.1866e-01,\n",
       "        1.7655e-01, -1.2393e-01, -4.7247e-02, -8.9221e-02,  6.8069e-02,\n",
       "        1.4806e-02, -2.8357e-01, -2.5358e-01,  1.3204e-01,  6.9809e-01,\n",
       "       -8.4020e-02, -4.2223e-01,  5.5961e-01,  3.9954e-02,  5.8968e-02,\n",
       "       -1.9102e-01, -2.2069e+00,  8.1526e-02,  2.5289e-01, -2.2367e-01,\n",
       "       -3.0142e-01, -2.8467e-01, -8.7759e-02, -3.9672e-01, -2.4318e-01,\n",
       "        1.4144e-01, -1.2311e-01,  6.3953e-03, -3.4761e-01, -4.6531e-01,\n",
       "       -1.0615e-03, -3.9291e-01, -1.7780e-01, -1.2175e-01,  2.4335e-01,\n",
       "       -7.7835e-01,  3.9598e-01, -2.3778e-01,  1.4766e-01,  6.2902e-01])"
      ]
     },
     "execution_count": 50,
     "metadata": {},
     "output_type": "execute_result"
    }
   ],
   "source": [
    "embedding_matrix[2]"
   ]
  },
  {
   "cell_type": "code",
   "execution_count": 51,
   "id": "70973b69",
   "metadata": {
    "execution": {
     "iopub.execute_input": "2024-02-24T07:18:14.442337Z",
     "iopub.status.busy": "2024-02-24T07:18:14.441431Z",
     "iopub.status.idle": "2024-02-24T07:18:14.469750Z",
     "shell.execute_reply": "2024-02-24T07:18:14.468826Z"
    },
    "papermill": {
     "duration": 0.11118,
     "end_time": "2024-02-24T07:18:14.471943",
     "exception": false,
     "start_time": "2024-02-24T07:18:14.360763",
     "status": "completed"
    },
    "tags": []
   },
   "outputs": [],
   "source": [
    "MAX_SEQ_LENGTH = 30\n",
    "embedding_layer = tf.keras.layers.Embedding(vocab_size,\n",
    "                                            EMBEDDING_DIM,\n",
    "                                            weights=[embedding_matrix],\n",
    "                                            input_length=MAX_SEQ_LENGTH,\n",
    "                                            trainable = False)"
   ]
  },
  {
   "cell_type": "code",
   "execution_count": 52,
   "id": "4437a927",
   "metadata": {
    "execution": {
     "iopub.execute_input": "2024-02-24T07:18:14.631634Z",
     "iopub.status.busy": "2024-02-24T07:18:14.630987Z",
     "iopub.status.idle": "2024-02-24T07:18:14.637855Z",
     "shell.execute_reply": "2024-02-24T07:18:14.636977Z"
    },
    "papermill": {
     "duration": 0.088575,
     "end_time": "2024-02-24T07:18:14.639878",
     "exception": false,
     "start_time": "2024-02-24T07:18:14.551303",
     "status": "completed"
    },
    "tags": []
   },
   "outputs": [],
   "source": [
    "from tensorflow.keras.layers import Conv1D,Bidirectional,Dense, Input, Dropout, LSTM\n",
    "from tensorflow.keras.layers import SpatialDropout1D\n",
    "from tensorflow.keras.callbacks import ModelCheckpoint"
   ]
  },
  {
   "cell_type": "markdown",
   "id": "f086109c",
   "metadata": {
    "papermill": {
     "duration": 0.079812,
     "end_time": "2024-02-24T07:18:14.796714",
     "exception": false,
     "start_time": "2024-02-24T07:18:14.716902",
     "status": "completed"
    },
    "tags": []
   },
   "source": [
    "# \"Sequenctial way\"\n",
    "model = tf.keras.Sequential()\n",
    "# Feature extractor\n",
    "model.add(embedding_layer)\n",
    "model.add(SpatialDropout1D(0.2))\n",
    "model.add(Conv1D(64,5, activation='relu'))\n",
    "model.add(Bidirectional(LSTM(64, dropout=0.2, recurrent_dropout = 0.2)))\n",
    "\n",
    "# Fully connected part\n",
    "# Probability Mapper\n",
    "model.add(Dense(512, activation='relu'))\n",
    "model.add(Dropout(0.5))\n",
    "model.add(Dense(512, activation='relu'))\n",
    "model.add(Dense(1,activation='sigmoid'))\n"
   ]
  },
  {
   "cell_type": "code",
   "execution_count": 53,
   "id": "eab4ae27",
   "metadata": {
    "execution": {
     "iopub.execute_input": "2024-02-24T07:18:14.956734Z",
     "iopub.status.busy": "2024-02-24T07:18:14.955904Z",
     "iopub.status.idle": "2024-02-24T07:18:17.149022Z",
     "shell.execute_reply": "2024-02-24T07:18:17.148159Z"
    },
    "papermill": {
     "duration": 2.27528,
     "end_time": "2024-02-24T07:18:17.151343",
     "exception": false,
     "start_time": "2024-02-24T07:18:14.876063",
     "status": "completed"
    },
    "tags": []
   },
   "outputs": [],
   "source": [
    "# \"Functional way\" of creating model architecture\n",
    "sequence_input = Input(shape=(MAX_SEQ_LENGTH,), dtype='int32')\n",
    "embedding_sequence = embedding_layer(sequence_input)\n",
    "x = SpatialDropout1D(0.2)(embedding_sequence)\n",
    "x = Conv1D(64, 5, activation='relu')(x)\n",
    "x = Bidirectional(LSTM(64, dropout=0.2, recurrent_dropout = 0.2))(x)\n",
    "x = Dense(512, activation='relu')(x)\n",
    "x = Dropout(0.5)(x)\n",
    "x = Dense(512, activation='relu')(x)\n",
    "outputs = Dense(1, activation='sigmoid')(x)\n",
    "model = tf.keras.Model(sequence_input,outputs)"
   ]
  },
  {
   "cell_type": "code",
   "execution_count": 54,
   "id": "232c4c93",
   "metadata": {
    "execution": {
     "iopub.execute_input": "2024-02-24T07:18:17.312691Z",
     "iopub.status.busy": "2024-02-24T07:18:17.312311Z",
     "iopub.status.idle": "2024-02-24T07:18:17.317422Z",
     "shell.execute_reply": "2024-02-24T07:18:17.316635Z"
    },
    "papermill": {
     "duration": 0.087692,
     "end_time": "2024-02-24T07:18:17.319285",
     "exception": false,
     "start_time": "2024-02-24T07:18:17.231593",
     "status": "completed"
    },
    "tags": []
   },
   "outputs": [],
   "source": [
    "from tensorflow.keras.optimizers import Adam\n",
    "from tensorflow.keras.callbacks import ReduceLROnPlateau"
   ]
  },
  {
   "cell_type": "code",
   "execution_count": 55,
   "id": "0f1cbb10",
   "metadata": {
    "execution": {
     "iopub.execute_input": "2024-02-24T07:18:17.483225Z",
     "iopub.status.busy": "2024-02-24T07:18:17.482506Z",
     "iopub.status.idle": "2024-02-24T07:18:17.502415Z",
     "shell.execute_reply": "2024-02-24T07:18:17.501484Z"
    },
    "papermill": {
     "duration": 0.105684,
     "end_time": "2024-02-24T07:18:17.504410",
     "exception": false,
     "start_time": "2024-02-24T07:18:17.398726",
     "status": "completed"
    },
    "tags": []
   },
   "outputs": [],
   "source": [
    "model.compile(loss='binary_crossentropy',\n",
    "             optimizer=Adam(learning_rate=0.01),\n",
    "             metrics = ['accuracy'])\n",
    "LR_reduction = ReduceLROnPlateau(factor= 0.1,\n",
    "                                min_lr=0.0001,\n",
    "                                monitor = 'val_loss',\n",
    "                                verbose=1)"
   ]
  },
  {
   "cell_type": "code",
   "execution_count": 56,
   "id": "ef75dcfb",
   "metadata": {
    "execution": {
     "iopub.execute_input": "2024-02-24T07:18:17.667069Z",
     "iopub.status.busy": "2024-02-24T07:18:17.666151Z",
     "iopub.status.idle": "2024-02-24T07:37:27.705202Z",
     "shell.execute_reply": "2024-02-24T07:37:27.704021Z"
    },
    "papermill": {
     "duration": 1150.123619,
     "end_time": "2024-02-24T07:37:27.707439",
     "exception": false,
     "start_time": "2024-02-24T07:18:17.583820",
     "status": "completed"
    },
    "tags": []
   },
   "outputs": [
    {
     "name": "stdout",
     "output_type": "stream",
     "text": [
      "Epoch 1/10\n"
     ]
    },
    {
     "name": "stderr",
     "output_type": "stream",
     "text": [
      "WARNING: All log messages before absl::InitializeLog() is called are written to STDERR\n",
      "I0000 00:00:1708759104.802501      71 device_compiler.h:186] Compiled cluster using XLA!  This line is logged at most once for the lifetime of the process.\n"
     ]
    },
    {
     "name": "stdout",
     "output_type": "stream",
     "text": [
      "1250/1250 [==============================] - 123s 92ms/step - loss: 0.5400 - accuracy: 0.7237 - val_loss: 0.5025 - val_accuracy: 0.7513 - lr: 0.0100\n",
      "Epoch 2/10\n",
      "1250/1250 [==============================] - 114s 91ms/step - loss: 0.5116 - accuracy: 0.7462 - val_loss: 0.4979 - val_accuracy: 0.7544 - lr: 0.0100\n",
      "Epoch 3/10\n",
      "1250/1250 [==============================] - 114s 91ms/step - loss: 0.5061 - accuracy: 0.7499 - val_loss: 0.4961 - val_accuracy: 0.7573 - lr: 0.0100\n",
      "Epoch 4/10\n",
      "1250/1250 [==============================] - 114s 91ms/step - loss: 0.5033 - accuracy: 0.7517 - val_loss: 0.4960 - val_accuracy: 0.7569 - lr: 0.0100\n",
      "Epoch 5/10\n",
      "1250/1250 [==============================] - 114s 91ms/step - loss: 0.5015 - accuracy: 0.7531 - val_loss: 0.4947 - val_accuracy: 0.7587 - lr: 0.0100\n",
      "Epoch 6/10\n",
      "1250/1250 [==============================] - 114s 91ms/step - loss: 0.5010 - accuracy: 0.7533 - val_loss: 0.4909 - val_accuracy: 0.7597 - lr: 0.0100\n",
      "Epoch 7/10\n",
      "1250/1250 [==============================] - 114s 91ms/step - loss: 0.4997 - accuracy: 0.7545 - val_loss: 0.4934 - val_accuracy: 0.7593 - lr: 0.0100\n",
      "Epoch 8/10\n",
      "1250/1250 [==============================] - 114s 91ms/step - loss: 0.4991 - accuracy: 0.7548 - val_loss: 0.4938 - val_accuracy: 0.7592 - lr: 0.0100\n",
      "Epoch 9/10\n",
      "1250/1250 [==============================] - 114s 92ms/step - loss: 0.4987 - accuracy: 0.7546 - val_loss: 0.4903 - val_accuracy: 0.7604 - lr: 0.0100\n",
      "Epoch 10/10\n",
      "1250/1250 [==============================] - 114s 91ms/step - loss: 0.4982 - accuracy: 0.7551 - val_loss: 0.4910 - val_accuracy: 0.7604 - lr: 0.0100\n"
     ]
    }
   ],
   "source": [
    "hist = model.fit(x_train,y_train,\n",
    "                 batch_size=BATCH_SIZE,\n",
    "                 epochs=10,\n",
    "                 validation_data=(x_test,y_test),\n",
    "                 callbacks=[LR_reduction])"
   ]
  },
  {
   "cell_type": "code",
   "execution_count": 57,
   "id": "6477e2d4",
   "metadata": {
    "execution": {
     "iopub.execute_input": "2024-02-24T07:37:30.059691Z",
     "iopub.status.busy": "2024-02-24T07:37:30.058702Z",
     "iopub.status.idle": "2024-02-24T07:37:30.065348Z",
     "shell.execute_reply": "2024-02-24T07:37:30.064374Z"
    },
    "papermill": {
     "duration": 1.157178,
     "end_time": "2024-02-24T07:37:30.067344",
     "exception": false,
     "start_time": "2024-02-24T07:37:28.910166",
     "status": "completed"
    },
    "tags": []
   },
   "outputs": [
    {
     "data": {
      "text/plain": [
       "dict_keys(['loss', 'accuracy', 'val_loss', 'val_accuracy', 'lr'])"
      ]
     },
     "execution_count": 57,
     "metadata": {},
     "output_type": "execute_result"
    }
   ],
   "source": [
    "hist.history.keys()"
   ]
  },
  {
   "cell_type": "code",
   "execution_count": null,
   "id": "d88b7449",
   "metadata": {
    "papermill": {
     "duration": 1.156933,
     "end_time": "2024-02-24T07:37:32.311121",
     "exception": false,
     "start_time": "2024-02-24T07:37:31.154188",
     "status": "completed"
    },
    "tags": []
   },
   "outputs": [],
   "source": []
  }
 ],
 "metadata": {
  "kaggle": {
   "accelerator": "gpu",
   "dataSources": [
    {
     "datasetId": 2477,
     "sourceId": 4140,
     "sourceType": "datasetVersion"
    }
   ],
   "dockerImageVersionId": 30648,
   "isGpuEnabled": true,
   "isInternetEnabled": true,
   "language": "python",
   "sourceType": "notebook"
  },
  "kernelspec": {
   "display_name": "Python 3",
   "language": "python",
   "name": "python3"
  },
  "language_info": {
   "codemirror_mode": {
    "name": "ipython",
    "version": 3
   },
   "file_extension": ".py",
   "mimetype": "text/x-python",
   "name": "python",
   "nbconvert_exporter": "python",
   "pygments_lexer": "ipython3",
   "version": "3.10.13"
  },
  "papermill": {
   "default_parameters": {},
   "duration": 1757.406329,
   "end_time": "2024-02-24T07:37:36.523701",
   "environment_variables": {},
   "exception": null,
   "input_path": "__notebook__.ipynb",
   "output_path": "__notebook__.ipynb",
   "parameters": {},
   "start_time": "2024-02-24T07:08:19.117372",
   "version": "2.5.0"
  }
 },
 "nbformat": 4,
 "nbformat_minor": 5
}
